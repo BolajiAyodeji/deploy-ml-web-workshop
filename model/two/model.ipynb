{
  "cells": [
    {
      "cell_type": "markdown",
      "metadata": {
        "id": "cOitCj87D_Co"
      },
      "source": [
        "## Install and import the required packages"
      ]
    },
    {
      "cell_type": "code",
      "execution_count": 1,
      "metadata": {
        "execution": {
          "iopub.execute_input": "2023-02-07T13:03:49.164136Z",
          "iopub.status.busy": "2023-02-07T13:03:49.163764Z",
          "iopub.status.idle": "2023-02-07T13:03:49.607715Z",
          "shell.execute_reply": "2023-02-07T13:03:49.606721Z",
          "shell.execute_reply.started": "2023-02-07T13:03:49.164100Z"
        },
        "id": "CDJmiDtKCTNb",
        "trusted": true
      },
      "outputs": [],
      "source": [
        "import pandas as pd\n",
        "\n",
        "from sklearn.model_selection import train_test_split\n",
        "from sklearn.preprocessing import LabelEncoder\n",
        "from sklearn.feature_extraction.text import TfidfVectorizer\n",
        "from sklearn.metrics import accuracy_score, classification_report\n",
        "\n",
        "from sklearn.linear_model import LogisticRegression\n",
        "from sklearn.svm import LinearSVC\n",
        "\n",
        "import pickle"
      ]
    },
    {
      "cell_type": "markdown",
      "metadata": {
        "id": "NwN1ohb_ETu-"
      },
      "source": [
        "## Mount Google Drive and import dataset"
      ]
    },
    {
      "cell_type": "code",
      "execution_count": 2,
      "metadata": {
        "colab": {
          "base_uri": "https://localhost:8080/"
        },
        "id": "QliUmShpEUEi",
        "outputId": "bf5e1458-34db-4e42-a693-992e68cf17dd"
      },
      "outputs": [
        {
          "name": "stdout",
          "output_type": "stream",
          "text": [
            "Mounted at /content/drive\n"
          ]
        }
      ],
      "source": [
        "from google.colab import drive\n",
        "drive.mount(\"/content/drive\")"
      ]
    },
    {
      "cell_type": "code",
      "execution_count": 3,
      "metadata": {
        "colab": {
          "base_uri": "https://localhost:8080/",
          "height": 206
        },
        "id": "bf-No9CSCgdo",
        "outputId": "8f74d477-982a-4bc1-90df-ba1694db74dd"
      },
      "outputs": [
        {
          "data": {
            "text/html": [
              "\n",
              "  <div id=\"df-09cb2695-52b4-488b-897b-e48e3b501e13\" class=\"colab-df-container\">\n",
              "    <div>\n",
              "<style scoped>\n",
              "    .dataframe tbody tr th:only-of-type {\n",
              "        vertical-align: middle;\n",
              "    }\n",
              "\n",
              "    .dataframe tbody tr th {\n",
              "        vertical-align: top;\n",
              "    }\n",
              "\n",
              "    .dataframe thead th {\n",
              "        text-align: right;\n",
              "    }\n",
              "</style>\n",
              "<table border=\"1\" class=\"dataframe\">\n",
              "  <thead>\n",
              "    <tr style=\"text-align: right;\">\n",
              "      <th></th>\n",
              "      <th>type</th>\n",
              "      <th>posts</th>\n",
              "    </tr>\n",
              "  </thead>\n",
              "  <tbody>\n",
              "    <tr>\n",
              "      <th>0</th>\n",
              "      <td>INTJ</td>\n",
              "      <td>know intj tool use interaction people excuse a...</td>\n",
              "    </tr>\n",
              "    <tr>\n",
              "      <th>1</th>\n",
              "      <td>INTJ</td>\n",
              "      <td>rap music ehh opp yeah know valid well know fa...</td>\n",
              "    </tr>\n",
              "    <tr>\n",
              "      <th>2</th>\n",
              "      <td>INTJ</td>\n",
              "      <td>preferably p hd low except wew lad video p min...</td>\n",
              "    </tr>\n",
              "    <tr>\n",
              "      <th>3</th>\n",
              "      <td>INTJ</td>\n",
              "      <td>drink like wish could drink red wine give head...</td>\n",
              "    </tr>\n",
              "    <tr>\n",
              "      <th>4</th>\n",
              "      <td>INTJ</td>\n",
              "      <td>space program ah bad deal meing freelance max ...</td>\n",
              "    </tr>\n",
              "  </tbody>\n",
              "</table>\n",
              "</div>\n",
              "    <div class=\"colab-df-buttons\">\n",
              "\n",
              "  <div class=\"colab-df-container\">\n",
              "    <button class=\"colab-df-convert\" onclick=\"convertToInteractive('df-09cb2695-52b4-488b-897b-e48e3b501e13')\"\n",
              "            title=\"Convert this dataframe to an interactive table.\"\n",
              "            style=\"display:none;\">\n",
              "\n",
              "  <svg xmlns=\"http://www.w3.org/2000/svg\" height=\"24px\" viewBox=\"0 -960 960 960\">\n",
              "    <path d=\"M120-120v-720h720v720H120Zm60-500h600v-160H180v160Zm220 220h160v-160H400v160Zm0 220h160v-160H400v160ZM180-400h160v-160H180v160Zm440 0h160v-160H620v160ZM180-180h160v-160H180v160Zm440 0h160v-160H620v160Z\"/>\n",
              "  </svg>\n",
              "    </button>\n",
              "\n",
              "  <style>\n",
              "    .colab-df-container {\n",
              "      display:flex;\n",
              "      gap: 12px;\n",
              "    }\n",
              "\n",
              "    .colab-df-convert {\n",
              "      background-color: #E8F0FE;\n",
              "      border: none;\n",
              "      border-radius: 50%;\n",
              "      cursor: pointer;\n",
              "      display: none;\n",
              "      fill: #1967D2;\n",
              "      height: 32px;\n",
              "      padding: 0 0 0 0;\n",
              "      width: 32px;\n",
              "    }\n",
              "\n",
              "    .colab-df-convert:hover {\n",
              "      background-color: #E2EBFA;\n",
              "      box-shadow: 0px 1px 2px rgba(60, 64, 67, 0.3), 0px 1px 3px 1px rgba(60, 64, 67, 0.15);\n",
              "      fill: #174EA6;\n",
              "    }\n",
              "\n",
              "    .colab-df-buttons div {\n",
              "      margin-bottom: 4px;\n",
              "    }\n",
              "\n",
              "    [theme=dark] .colab-df-convert {\n",
              "      background-color: #3B4455;\n",
              "      fill: #D2E3FC;\n",
              "    }\n",
              "\n",
              "    [theme=dark] .colab-df-convert:hover {\n",
              "      background-color: #434B5C;\n",
              "      box-shadow: 0px 1px 3px 1px rgba(0, 0, 0, 0.15);\n",
              "      filter: drop-shadow(0px 1px 2px rgba(0, 0, 0, 0.3));\n",
              "      fill: #FFFFFF;\n",
              "    }\n",
              "  </style>\n",
              "\n",
              "    <script>\n",
              "      const buttonEl =\n",
              "        document.querySelector('#df-09cb2695-52b4-488b-897b-e48e3b501e13 button.colab-df-convert');\n",
              "      buttonEl.style.display =\n",
              "        google.colab.kernel.accessAllowed ? 'block' : 'none';\n",
              "\n",
              "      async function convertToInteractive(key) {\n",
              "        const element = document.querySelector('#df-09cb2695-52b4-488b-897b-e48e3b501e13');\n",
              "        const dataTable =\n",
              "          await google.colab.kernel.invokeFunction('convertToInteractive',\n",
              "                                                    [key], {});\n",
              "        if (!dataTable) return;\n",
              "\n",
              "        const docLinkHtml = 'Like what you see? Visit the ' +\n",
              "          '<a target=\"_blank\" href=https://colab.research.google.com/notebooks/data_table.ipynb>data table notebook</a>'\n",
              "          + ' to learn more about interactive tables.';\n",
              "        element.innerHTML = '';\n",
              "        dataTable['output_type'] = 'display_data';\n",
              "        await google.colab.output.renderOutput(dataTable, element);\n",
              "        const docLink = document.createElement('div');\n",
              "        docLink.innerHTML = docLinkHtml;\n",
              "        element.appendChild(docLink);\n",
              "      }\n",
              "    </script>\n",
              "  </div>\n",
              "\n",
              "\n",
              "<div id=\"df-f2cde519-6d60-472b-bd28-930c89c416b2\">\n",
              "  <button class=\"colab-df-quickchart\" onclick=\"quickchart('df-f2cde519-6d60-472b-bd28-930c89c416b2')\"\n",
              "            title=\"Suggest charts.\"\n",
              "            style=\"display:none;\">\n",
              "\n",
              "<svg xmlns=\"http://www.w3.org/2000/svg\" height=\"24px\"viewBox=\"0 0 24 24\"\n",
              "     width=\"24px\">\n",
              "    <g>\n",
              "        <path d=\"M19 3H5c-1.1 0-2 .9-2 2v14c0 1.1.9 2 2 2h14c1.1 0 2-.9 2-2V5c0-1.1-.9-2-2-2zM9 17H7v-7h2v7zm4 0h-2V7h2v10zm4 0h-2v-4h2v4z\"/>\n",
              "    </g>\n",
              "</svg>\n",
              "  </button>\n",
              "\n",
              "<style>\n",
              "  .colab-df-quickchart {\n",
              "      --bg-color: #E8F0FE;\n",
              "      --fill-color: #1967D2;\n",
              "      --hover-bg-color: #E2EBFA;\n",
              "      --hover-fill-color: #174EA6;\n",
              "      --disabled-fill-color: #AAA;\n",
              "      --disabled-bg-color: #DDD;\n",
              "  }\n",
              "\n",
              "  [theme=dark] .colab-df-quickchart {\n",
              "      --bg-color: #3B4455;\n",
              "      --fill-color: #D2E3FC;\n",
              "      --hover-bg-color: #434B5C;\n",
              "      --hover-fill-color: #FFFFFF;\n",
              "      --disabled-bg-color: #3B4455;\n",
              "      --disabled-fill-color: #666;\n",
              "  }\n",
              "\n",
              "  .colab-df-quickchart {\n",
              "    background-color: var(--bg-color);\n",
              "    border: none;\n",
              "    border-radius: 50%;\n",
              "    cursor: pointer;\n",
              "    display: none;\n",
              "    fill: var(--fill-color);\n",
              "    height: 32px;\n",
              "    padding: 0;\n",
              "    width: 32px;\n",
              "  }\n",
              "\n",
              "  .colab-df-quickchart:hover {\n",
              "    background-color: var(--hover-bg-color);\n",
              "    box-shadow: 0 1px 2px rgba(60, 64, 67, 0.3), 0 1px 3px 1px rgba(60, 64, 67, 0.15);\n",
              "    fill: var(--button-hover-fill-color);\n",
              "  }\n",
              "\n",
              "  .colab-df-quickchart-complete:disabled,\n",
              "  .colab-df-quickchart-complete:disabled:hover {\n",
              "    background-color: var(--disabled-bg-color);\n",
              "    fill: var(--disabled-fill-color);\n",
              "    box-shadow: none;\n",
              "  }\n",
              "\n",
              "  .colab-df-spinner {\n",
              "    border: 2px solid var(--fill-color);\n",
              "    border-color: transparent;\n",
              "    border-bottom-color: var(--fill-color);\n",
              "    animation:\n",
              "      spin 1s steps(1) infinite;\n",
              "  }\n",
              "\n",
              "  @keyframes spin {\n",
              "    0% {\n",
              "      border-color: transparent;\n",
              "      border-bottom-color: var(--fill-color);\n",
              "      border-left-color: var(--fill-color);\n",
              "    }\n",
              "    20% {\n",
              "      border-color: transparent;\n",
              "      border-left-color: var(--fill-color);\n",
              "      border-top-color: var(--fill-color);\n",
              "    }\n",
              "    30% {\n",
              "      border-color: transparent;\n",
              "      border-left-color: var(--fill-color);\n",
              "      border-top-color: var(--fill-color);\n",
              "      border-right-color: var(--fill-color);\n",
              "    }\n",
              "    40% {\n",
              "      border-color: transparent;\n",
              "      border-right-color: var(--fill-color);\n",
              "      border-top-color: var(--fill-color);\n",
              "    }\n",
              "    60% {\n",
              "      border-color: transparent;\n",
              "      border-right-color: var(--fill-color);\n",
              "    }\n",
              "    80% {\n",
              "      border-color: transparent;\n",
              "      border-right-color: var(--fill-color);\n",
              "      border-bottom-color: var(--fill-color);\n",
              "    }\n",
              "    90% {\n",
              "      border-color: transparent;\n",
              "      border-bottom-color: var(--fill-color);\n",
              "    }\n",
              "  }\n",
              "</style>\n",
              "\n",
              "  <script>\n",
              "    async function quickchart(key) {\n",
              "      const quickchartButtonEl =\n",
              "        document.querySelector('#' + key + ' button');\n",
              "      quickchartButtonEl.disabled = true;  // To prevent multiple clicks.\n",
              "      quickchartButtonEl.classList.add('colab-df-spinner');\n",
              "      try {\n",
              "        const charts = await google.colab.kernel.invokeFunction(\n",
              "            'suggestCharts', [key], {});\n",
              "      } catch (error) {\n",
              "        console.error('Error during call to suggestCharts:', error);\n",
              "      }\n",
              "      quickchartButtonEl.classList.remove('colab-df-spinner');\n",
              "      quickchartButtonEl.classList.add('colab-df-quickchart-complete');\n",
              "    }\n",
              "    (() => {\n",
              "      let quickchartButtonEl =\n",
              "        document.querySelector('#df-f2cde519-6d60-472b-bd28-930c89c416b2 button');\n",
              "      quickchartButtonEl.style.display =\n",
              "        google.colab.kernel.accessAllowed ? 'block' : 'none';\n",
              "    })();\n",
              "  </script>\n",
              "</div>\n",
              "    </div>\n",
              "  </div>\n"
            ],
            "text/plain": [
              "   type                                              posts\n",
              "0  INTJ  know intj tool use interaction people excuse a...\n",
              "1  INTJ  rap music ehh opp yeah know valid well know fa...\n",
              "2  INTJ  preferably p hd low except wew lad video p min...\n",
              "3  INTJ  drink like wish could drink red wine give head...\n",
              "4  INTJ  space program ah bad deal meing freelance max ..."
            ]
          },
          "execution_count": 3,
          "metadata": {},
          "output_type": "execute_result"
        }
      ],
      "source": [
        "data = pd.read_csv(\"/content/drive/MyDrive/Colab Notebooks/deploy-ml-web-workshop/mbpt_dataset_2.csv\")\n",
        "\n",
        "data.head()"
      ]
    },
    {
      "cell_type": "code",
      "execution_count": 4,
      "metadata": {
        "colab": {
          "base_uri": "https://localhost:8080/"
        },
        "id": "1fMauYMcPsBb",
        "outputId": "1520df8d-53aa-4fac-ae56-28c8f193d780"
      },
      "outputs": [
        {
          "data": {
            "text/plain": [
              "type     106067\n",
              "posts    106067\n",
              "dtype: int64"
            ]
          },
          "execution_count": 4,
          "metadata": {},
          "output_type": "execute_result"
        }
      ],
      "source": [
        "data.count()"
      ]
    },
    {
      "cell_type": "code",
      "execution_count": 5,
      "metadata": {
        "colab": {
          "base_uri": "https://localhost:8080/"
        },
        "execution": {
          "iopub.execute_input": "2023-02-07T13:03:53.536778Z",
          "iopub.status.busy": "2023-02-07T13:03:53.536427Z",
          "iopub.status.idle": "2023-02-07T13:03:53.546108Z",
          "shell.execute_reply": "2023-02-07T13:03:53.545098Z",
          "shell.execute_reply.started": "2023-02-07T13:03:53.536744Z"
        },
        "id": "jbYppmSZCTNd",
        "outputId": "d6580926-a4e7-4a60-a142-442acbf892f0",
        "trusted": true
      },
      "outputs": [
        {
          "data": {
            "text/plain": [
              "INTP    24961\n",
              "INTJ    22427\n",
              "INFJ    14963\n",
              "INFP    12134\n",
              "ENTP    11725\n",
              "ENFP     6167\n",
              "ISTP     3424\n",
              "ENTJ     2955\n",
              "ESTP     1986\n",
              "ENFJ     1534\n",
              "ISTJ     1243\n",
              "ISFP      875\n",
              "ISFJ      650\n",
              "ESTJ      482\n",
              "ESFP      360\n",
              "ESFJ      181\n",
              "Name: type, dtype: int64"
            ]
          },
          "execution_count": 5,
          "metadata": {},
          "output_type": "execute_result"
        }
      ],
      "source": [
        "data['type'].value_counts()"
      ]
    },
    {
      "cell_type": "markdown",
      "metadata": {
        "id": "UtDpJhSiRtxO"
      },
      "source": [
        "## Split train and test (to ensure balanced distribution of data)"
      ]
    },
    {
      "cell_type": "code",
      "execution_count": 6,
      "metadata": {
        "colab": {
          "base_uri": "https://localhost:8080/"
        },
        "execution": {
          "iopub.execute_input": "2023-02-07T13:03:58.198791Z",
          "iopub.status.busy": "2023-02-07T13:03:58.198376Z",
          "iopub.status.idle": "2023-02-07T13:03:58.213796Z",
          "shell.execute_reply": "2023-02-07T13:03:58.212887Z",
          "shell.execute_reply.started": "2023-02-07T13:03:58.198746Z"
        },
        "id": "zD-dwMjuCTNe",
        "outputId": "5e946f47-d387-49a6-efda-b7dd71d52ded",
        "trusted": true
      },
      "outputs": [
        {
          "name": "stdout",
          "output_type": "stream",
          "text": [
            "\u001b[93m TRAIN DATA \n",
            "\u001b[00m         type                                              posts\n",
            "64196   ENTJ  user put sign username instance meoleme jumal ...\n",
            "31881   INTP  year issue correct incorrect leave toss labor ...\n",
            "68961   ENTP  steven spielberg nice rest trash curious thing...\n",
            "102426  INFP  bad situation actually lot respect lazy people...\n",
            "19036   INTJ  male friend quite literally drive crazy year a...\n",
            "...      ...                                                ...\n",
            "16713   INTJ  ni sound also like stuff say think brilliant i...\n",
            "28060   INTP  useful time fare much good even feel someone p...\n",
            "29514   INTP  look super attractive pic yes sometimes see wo...\n",
            "92206   INFJ  way home school bus really incentive learn dri...\n",
            "76239   ESFP  style seem familiar yes much friend family kno...\n",
            "\n",
            "[84853 rows x 2 columns]\n",
            "INTP    19969\n",
            "INTJ    17941\n",
            "INFJ    11970\n",
            "INFP     9707\n",
            "ENTP     9380\n",
            "ENFP     4934\n",
            "ISTP     2739\n",
            "ENTJ     2364\n",
            "ESTP     1589\n",
            "ENFJ     1227\n",
            "ISTJ      994\n",
            "ISFP      700\n",
            "ISFJ      520\n",
            "ESTJ      386\n",
            "ESFP      288\n",
            "ESFJ      145\n",
            "Name: type, dtype: int64\n",
            "\u001b[93m TEST DATA \n",
            "\u001b[00m         type                                              posts\n",
            "96021   INFP  khaled hosseini book literally every single on...\n",
            "33212   INTP  display passion come naturally make feel self ...\n",
            "89866   INFJ  hard finally commit college know could stay on...\n",
            "98577   INFP  capitalism describe injustice shock economics ...\n",
            "62330   ENTJ  good stress even stress stress however let for...\n",
            "...      ...                                                ...\n",
            "103821  INFP  express cuivating fi random burst creativity h...\n",
            "8791    INTJ  sense would give ton context exclude deja vu u...\n",
            "36269   INTP  hear watch couple video form negative bias dis...\n",
            "78831   ESTP  abandon mention cloud badly myers case platfor...\n",
            "67191   ENTP  situation someone give order like fuck hell te...\n",
            "\n",
            "[21214 rows x 2 columns]\n",
            "INTP    4992\n",
            "INTJ    4486\n",
            "INFJ    2993\n",
            "INFP    2427\n",
            "ENTP    2345\n",
            "ENFP    1233\n",
            "ISTP     685\n",
            "ENTJ     591\n",
            "ESTP     397\n",
            "ENFJ     307\n",
            "ISTJ     249\n",
            "ISFP     175\n",
            "ISFJ     130\n",
            "ESTJ      96\n",
            "ESFP      72\n",
            "ESFJ      36\n",
            "Name: type, dtype: int64\n"
          ]
        }
      ],
      "source": [
        "train_data, test_data = train_test_split(data, test_size = 0.2, random_state = 42, stratify = data.type)\n",
        "\n",
        "print(\"\\033[93m {}\\033[00m\" .format('TRAIN DATA \\n'), train_data)\n",
        "print(train_data['type'].value_counts())\n",
        "\n",
        "print(\"\\033[93m {}\\033[00m\" .format('TEST DATA \\n'),  test_data)\n",
        "print(test_data['type'].value_counts())\n",
        "\n",
        "# PS: \"\\033[93m {}\\033[00m\" .format('\\n AFTER \\n') is just a way\n",
        "# to change the color of the printed string 'TRAIN DATA \\n' using ANSI Escape Code."
      ]
    },
    {
      "cell_type": "markdown",
      "metadata": {
        "id": "s8dMFnoPCTNg"
      },
      "source": [
        "## Tokenize and transform the data"
      ]
    },
    {
      "cell_type": "code",
      "execution_count": 7,
      "metadata": {
        "_kg_hide-output": true,
        "colab": {
          "base_uri": "https://localhost:8080/",
          "height": 75
        },
        "execution": {
          "iopub.execute_input": "2023-02-07T13:06:45.097419Z",
          "iopub.status.busy": "2023-02-07T13:06:45.097082Z",
          "iopub.status.idle": "2023-02-07T13:07:14.792871Z",
          "shell.execute_reply": "2023-02-07T13:07:14.792035Z",
          "shell.execute_reply.started": "2023-02-07T13:06:45.097389Z"
        },
        "id": "uRZmbT9HCTNg",
        "outputId": "1ba93f73-d220-4eff-dd5b-0fc2744e0313",
        "trusted": true
      },
      "outputs": [
        {
          "data": {
            "text/html": [
              "<style>#sk-container-id-1 {color: black;background-color: white;}#sk-container-id-1 pre{padding: 0;}#sk-container-id-1 div.sk-toggleable {background-color: white;}#sk-container-id-1 label.sk-toggleable__label {cursor: pointer;display: block;width: 100%;margin-bottom: 0;padding: 0.3em;box-sizing: border-box;text-align: center;}#sk-container-id-1 label.sk-toggleable__label-arrow:before {content: \"▸\";float: left;margin-right: 0.25em;color: #696969;}#sk-container-id-1 label.sk-toggleable__label-arrow:hover:before {color: black;}#sk-container-id-1 div.sk-estimator:hover label.sk-toggleable__label-arrow:before {color: black;}#sk-container-id-1 div.sk-toggleable__content {max-height: 0;max-width: 0;overflow: hidden;text-align: left;background-color: #f0f8ff;}#sk-container-id-1 div.sk-toggleable__content pre {margin: 0.2em;color: black;border-radius: 0.25em;background-color: #f0f8ff;}#sk-container-id-1 input.sk-toggleable__control:checked~div.sk-toggleable__content {max-height: 200px;max-width: 100%;overflow: auto;}#sk-container-id-1 input.sk-toggleable__control:checked~label.sk-toggleable__label-arrow:before {content: \"▾\";}#sk-container-id-1 div.sk-estimator input.sk-toggleable__control:checked~label.sk-toggleable__label {background-color: #d4ebff;}#sk-container-id-1 div.sk-label input.sk-toggleable__control:checked~label.sk-toggleable__label {background-color: #d4ebff;}#sk-container-id-1 input.sk-hidden--visually {border: 0;clip: rect(1px 1px 1px 1px);clip: rect(1px, 1px, 1px, 1px);height: 1px;margin: -1px;overflow: hidden;padding: 0;position: absolute;width: 1px;}#sk-container-id-1 div.sk-estimator {font-family: monospace;background-color: #f0f8ff;border: 1px dotted black;border-radius: 0.25em;box-sizing: border-box;margin-bottom: 0.5em;}#sk-container-id-1 div.sk-estimator:hover {background-color: #d4ebff;}#sk-container-id-1 div.sk-parallel-item::after {content: \"\";width: 100%;border-bottom: 1px solid gray;flex-grow: 1;}#sk-container-id-1 div.sk-label:hover label.sk-toggleable__label {background-color: #d4ebff;}#sk-container-id-1 div.sk-serial::before {content: \"\";position: absolute;border-left: 1px solid gray;box-sizing: border-box;top: 0;bottom: 0;left: 50%;z-index: 0;}#sk-container-id-1 div.sk-serial {display: flex;flex-direction: column;align-items: center;background-color: white;padding-right: 0.2em;padding-left: 0.2em;position: relative;}#sk-container-id-1 div.sk-item {position: relative;z-index: 1;}#sk-container-id-1 div.sk-parallel {display: flex;align-items: stretch;justify-content: center;background-color: white;position: relative;}#sk-container-id-1 div.sk-item::before, #sk-container-id-1 div.sk-parallel-item::before {content: \"\";position: absolute;border-left: 1px solid gray;box-sizing: border-box;top: 0;bottom: 0;left: 50%;z-index: -1;}#sk-container-id-1 div.sk-parallel-item {display: flex;flex-direction: column;z-index: 1;position: relative;background-color: white;}#sk-container-id-1 div.sk-parallel-item:first-child::after {align-self: flex-end;width: 50%;}#sk-container-id-1 div.sk-parallel-item:last-child::after {align-self: flex-start;width: 50%;}#sk-container-id-1 div.sk-parallel-item:only-child::after {width: 0;}#sk-container-id-1 div.sk-dashed-wrapped {border: 1px dashed gray;margin: 0 0.4em 0.5em 0.4em;box-sizing: border-box;padding-bottom: 0.4em;background-color: white;}#sk-container-id-1 div.sk-label label {font-family: monospace;font-weight: bold;display: inline-block;line-height: 1.2em;}#sk-container-id-1 div.sk-label-container {text-align: center;}#sk-container-id-1 div.sk-container {/* jupyter's `normalize.less` sets `[hidden] { display: none; }` but bootstrap.min.css set `[hidden] { display: none !important; }` so we also need the `!important` here to be able to override the default hidden behavior on the sphinx rendered scikit-learn.org. See: https://github.com/scikit-learn/scikit-learn/issues/21755 */display: inline-block !important;position: relative;}#sk-container-id-1 div.sk-text-repr-fallback {display: none;}</style><div id=\"sk-container-id-1\" class=\"sk-top-container\"><div class=\"sk-text-repr-fallback\"><pre>TfidfVectorizer(max_features=5000, stop_words=&#x27;english&#x27;)</pre><b>In a Jupyter environment, please rerun this cell to show the HTML representation or trust the notebook. <br />On GitHub, the HTML representation is unable to render, please try loading this page with nbviewer.org.</b></div><div class=\"sk-container\" hidden><div class=\"sk-item\"><div class=\"sk-estimator sk-toggleable\"><input class=\"sk-toggleable__control sk-hidden--visually\" id=\"sk-estimator-id-1\" type=\"checkbox\" checked><label for=\"sk-estimator-id-1\" class=\"sk-toggleable__label sk-toggleable__label-arrow\">TfidfVectorizer</label><div class=\"sk-toggleable__content\"><pre>TfidfVectorizer(max_features=5000, stop_words=&#x27;english&#x27;)</pre></div></div></div></div></div>"
            ],
            "text/plain": [
              "TfidfVectorizer(max_features=5000, stop_words='english')"
            ]
          },
          "execution_count": 7,
          "metadata": {},
          "output_type": "execute_result"
        }
      ],
      "source": [
        "vectorizer = TfidfVectorizer(max_features = 5000, stop_words = \"english\")\n",
        "\n",
        "vectorizer.fit(train_data.posts)"
      ]
    },
    {
      "cell_type": "code",
      "execution_count": 8,
      "metadata": {
        "execution": {
          "iopub.execute_input": "2023-02-07T13:07:42.106558Z",
          "iopub.status.busy": "2023-02-07T13:07:42.106226Z",
          "iopub.status.idle": "2023-02-07T13:08:19.649299Z",
          "shell.execute_reply": "2023-02-07T13:08:19.648375Z",
          "shell.execute_reply.started": "2023-02-07T13:07:42.106523Z"
        },
        "id": "xu-ByDNTCTNg",
        "trusted": true
      },
      "outputs": [],
      "source": [
        "train_post = vectorizer.transform(train_data.posts).toarray()\n",
        "\n",
        "test_post = vectorizer.transform(test_data.posts).toarray()"
      ]
    },
    {
      "cell_type": "code",
      "execution_count": 9,
      "metadata": {
        "colab": {
          "base_uri": "https://localhost:8080/"
        },
        "execution": {
          "iopub.execute_input": "2023-02-07T13:10:31.861007Z",
          "iopub.status.busy": "2023-02-07T13:10:31.860652Z",
          "iopub.status.idle": "2023-02-07T13:10:31.868751Z",
          "shell.execute_reply": "2023-02-07T13:10:31.867730Z",
          "shell.execute_reply.started": "2023-02-07T13:10:31.860973Z"
        },
        "id": "kxC53yKMCTNh",
        "outputId": "8480eb50-753d-4278-ee3f-2a03de029e0f",
        "trusted": true
      },
      "outputs": [
        {
          "data": {
            "text/plain": [
              "(84853, 5000)"
            ]
          },
          "execution_count": 9,
          "metadata": {},
          "output_type": "execute_result"
        }
      ],
      "source": [
        "train_post.shape"
      ]
    },
    {
      "cell_type": "code",
      "execution_count": 10,
      "metadata": {
        "execution": {
          "iopub.execute_input": "2023-02-07T13:10:33.128907Z",
          "iopub.status.busy": "2023-02-07T13:10:33.128576Z",
          "iopub.status.idle": "2023-02-07T13:10:33.135755Z",
          "shell.execute_reply": "2023-02-07T13:10:33.134703Z",
          "shell.execute_reply.started": "2023-02-07T13:10:33.128874Z"
        },
        "id": "YmpHO9jyCTNh",
        "trusted": true
      },
      "outputs": [],
      "source": [
        "target_encoder = LabelEncoder()\n",
        "\n",
        "train_target = target_encoder.fit_transform(train_data.type)\n",
        "test_target = target_encoder.fit_transform(test_data.type)"
      ]
    },
    {
      "cell_type": "markdown",
      "metadata": {
        "id": "jtv8IH-fCTNh"
      },
      "source": [
        "## Models testing and selection"
      ]
    },
    {
      "cell_type": "code",
      "execution_count": 11,
      "metadata": {
        "execution": {
          "iopub.execute_input": "2023-02-07T13:10:41.744811Z",
          "iopub.status.busy": "2023-02-07T13:10:41.744485Z",
          "iopub.status.idle": "2023-02-07T13:10:41.748872Z",
          "shell.execute_reply": "2023-02-07T13:10:41.748007Z",
          "shell.execute_reply.started": "2023-02-07T13:10:41.744779Z"
        },
        "id": "HXW-P1_JCTNh",
        "trusted": true
      },
      "outputs": [],
      "source": [
        "# Store the accuracy of each model\n",
        "\n",
        "models_accuracy = {}"
      ]
    },
    {
      "cell_type": "markdown",
      "metadata": {
        "id": "zIjjYneACTNh"
      },
      "source": [
        "#### Logistic Regression"
      ]
    },
    {
      "cell_type": "code",
      "execution_count": 12,
      "metadata": {
        "colab": {
          "base_uri": "https://localhost:8080/",
          "height": 75
        },
        "execution": {
          "iopub.execute_input": "2023-02-07T13:10:44.106309Z",
          "iopub.status.busy": "2023-02-07T13:10:44.105739Z",
          "iopub.status.idle": "2023-02-07T13:11:21.301168Z",
          "shell.execute_reply": "2023-02-07T13:11:21.300179Z",
          "shell.execute_reply.started": "2023-02-07T13:10:44.106275Z"
        },
        "id": "CLw4I-xGCTNi",
        "outputId": "6028a446-d733-47f5-f1d1-e6ac95603aa6",
        "trusted": true
      },
      "outputs": [
        {
          "data": {
            "text/html": [
              "<style>#sk-container-id-2 {color: black;background-color: white;}#sk-container-id-2 pre{padding: 0;}#sk-container-id-2 div.sk-toggleable {background-color: white;}#sk-container-id-2 label.sk-toggleable__label {cursor: pointer;display: block;width: 100%;margin-bottom: 0;padding: 0.3em;box-sizing: border-box;text-align: center;}#sk-container-id-2 label.sk-toggleable__label-arrow:before {content: \"▸\";float: left;margin-right: 0.25em;color: #696969;}#sk-container-id-2 label.sk-toggleable__label-arrow:hover:before {color: black;}#sk-container-id-2 div.sk-estimator:hover label.sk-toggleable__label-arrow:before {color: black;}#sk-container-id-2 div.sk-toggleable__content {max-height: 0;max-width: 0;overflow: hidden;text-align: left;background-color: #f0f8ff;}#sk-container-id-2 div.sk-toggleable__content pre {margin: 0.2em;color: black;border-radius: 0.25em;background-color: #f0f8ff;}#sk-container-id-2 input.sk-toggleable__control:checked~div.sk-toggleable__content {max-height: 200px;max-width: 100%;overflow: auto;}#sk-container-id-2 input.sk-toggleable__control:checked~label.sk-toggleable__label-arrow:before {content: \"▾\";}#sk-container-id-2 div.sk-estimator input.sk-toggleable__control:checked~label.sk-toggleable__label {background-color: #d4ebff;}#sk-container-id-2 div.sk-label input.sk-toggleable__control:checked~label.sk-toggleable__label {background-color: #d4ebff;}#sk-container-id-2 input.sk-hidden--visually {border: 0;clip: rect(1px 1px 1px 1px);clip: rect(1px, 1px, 1px, 1px);height: 1px;margin: -1px;overflow: hidden;padding: 0;position: absolute;width: 1px;}#sk-container-id-2 div.sk-estimator {font-family: monospace;background-color: #f0f8ff;border: 1px dotted black;border-radius: 0.25em;box-sizing: border-box;margin-bottom: 0.5em;}#sk-container-id-2 div.sk-estimator:hover {background-color: #d4ebff;}#sk-container-id-2 div.sk-parallel-item::after {content: \"\";width: 100%;border-bottom: 1px solid gray;flex-grow: 1;}#sk-container-id-2 div.sk-label:hover label.sk-toggleable__label {background-color: #d4ebff;}#sk-container-id-2 div.sk-serial::before {content: \"\";position: absolute;border-left: 1px solid gray;box-sizing: border-box;top: 0;bottom: 0;left: 50%;z-index: 0;}#sk-container-id-2 div.sk-serial {display: flex;flex-direction: column;align-items: center;background-color: white;padding-right: 0.2em;padding-left: 0.2em;position: relative;}#sk-container-id-2 div.sk-item {position: relative;z-index: 1;}#sk-container-id-2 div.sk-parallel {display: flex;align-items: stretch;justify-content: center;background-color: white;position: relative;}#sk-container-id-2 div.sk-item::before, #sk-container-id-2 div.sk-parallel-item::before {content: \"\";position: absolute;border-left: 1px solid gray;box-sizing: border-box;top: 0;bottom: 0;left: 50%;z-index: -1;}#sk-container-id-2 div.sk-parallel-item {display: flex;flex-direction: column;z-index: 1;position: relative;background-color: white;}#sk-container-id-2 div.sk-parallel-item:first-child::after {align-self: flex-end;width: 50%;}#sk-container-id-2 div.sk-parallel-item:last-child::after {align-self: flex-start;width: 50%;}#sk-container-id-2 div.sk-parallel-item:only-child::after {width: 0;}#sk-container-id-2 div.sk-dashed-wrapped {border: 1px dashed gray;margin: 0 0.4em 0.5em 0.4em;box-sizing: border-box;padding-bottom: 0.4em;background-color: white;}#sk-container-id-2 div.sk-label label {font-family: monospace;font-weight: bold;display: inline-block;line-height: 1.2em;}#sk-container-id-2 div.sk-label-container {text-align: center;}#sk-container-id-2 div.sk-container {/* jupyter's `normalize.less` sets `[hidden] { display: none; }` but bootstrap.min.css set `[hidden] { display: none !important; }` so we also need the `!important` here to be able to override the default hidden behavior on the sphinx rendered scikit-learn.org. See: https://github.com/scikit-learn/scikit-learn/issues/21755 */display: inline-block !important;position: relative;}#sk-container-id-2 div.sk-text-repr-fallback {display: none;}</style><div id=\"sk-container-id-2\" class=\"sk-top-container\"><div class=\"sk-text-repr-fallback\"><pre>LogisticRegression(C=0.5, max_iter=3000, n_jobs=-1)</pre><b>In a Jupyter environment, please rerun this cell to show the HTML representation or trust the notebook. <br />On GitHub, the HTML representation is unable to render, please try loading this page with nbviewer.org.</b></div><div class=\"sk-container\" hidden><div class=\"sk-item\"><div class=\"sk-estimator sk-toggleable\"><input class=\"sk-toggleable__control sk-hidden--visually\" id=\"sk-estimator-id-2\" type=\"checkbox\" checked><label for=\"sk-estimator-id-2\" class=\"sk-toggleable__label sk-toggleable__label-arrow\">LogisticRegression</label><div class=\"sk-toggleable__content\"><pre>LogisticRegression(C=0.5, max_iter=3000, n_jobs=-1)</pre></div></div></div></div></div>"
            ],
            "text/plain": [
              "LogisticRegression(C=0.5, max_iter=3000, n_jobs=-1)"
            ]
          },
          "execution_count": 12,
          "metadata": {},
          "output_type": "execute_result"
        }
      ],
      "source": [
        "model_log = LogisticRegression(max_iter = 3000, C = 0.5, n_jobs = -1)\n",
        "\n",
        "model_log.fit(train_post, train_target)"
      ]
    },
    {
      "cell_type": "code",
      "execution_count": 13,
      "metadata": {
        "colab": {
          "base_uri": "https://localhost:8080/"
        },
        "execution": {
          "iopub.execute_input": "2023-02-07T13:11:21.303411Z",
          "iopub.status.busy": "2023-02-07T13:11:21.303136Z",
          "iopub.status.idle": "2023-02-07T13:11:21.441617Z",
          "shell.execute_reply": "2023-02-07T13:11:21.438948Z",
          "shell.execute_reply.started": "2023-02-07T13:11:21.303380Z"
        },
        "id": "vgUmB2oWCTNj",
        "outputId": "3e6c02f8-7c75-408c-bce3-8cbbdd1fda22",
        "trusted": true
      },
      "outputs": [
        {
          "name": "stdout",
          "output_type": "stream",
          "text": [
            "Train Classification Report \n",
            "                precision    recall  f1-score   support\n",
            "\n",
            "        ENFJ       0.89      0.54      0.67      1227\n",
            "        ENFP       0.87      0.78      0.82      4934\n",
            "        ENTJ       0.91      0.70      0.79      2364\n",
            "        ENTP       0.86      0.83      0.84      9380\n",
            "        ESFJ       0.85      0.12      0.21       145\n",
            "        ESFP       0.90      0.29      0.44       288\n",
            "        ESTJ       0.97      0.67      0.79       386\n",
            "        ESTP       0.96      0.86      0.91      1589\n",
            "        INFJ       0.84      0.87      0.85     11970\n",
            "        INFP       0.83      0.85      0.84      9707\n",
            "        INTJ       0.83      0.90      0.86     17941\n",
            "        INTP       0.84      0.91      0.87     19969\n",
            "        ISFJ       0.86      0.39      0.54       520\n",
            "        ISFP       0.83      0.49      0.61       700\n",
            "        ISTJ       0.89      0.52      0.65       994\n",
            "        ISTP       0.90      0.74      0.81      2739\n",
            "\n",
            "    accuracy                           0.85     84853\n",
            "   macro avg       0.88      0.65      0.72     84853\n",
            "weighted avg       0.85      0.85      0.84     84853\n",
            "\n",
            "Test Classification Report \n",
            "               precision    recall  f1-score   support\n",
            "\n",
            "        ENFJ       0.79      0.44      0.57       307\n",
            "        ENFP       0.84      0.76      0.79      1233\n",
            "        ENTJ       0.92      0.64      0.75       591\n",
            "        ENTP       0.83      0.79      0.81      2345\n",
            "        ESFJ       0.80      0.11      0.20        36\n",
            "        ESFP       0.67      0.22      0.33        72\n",
            "        ESTJ       0.97      0.64      0.77        96\n",
            "        ESTP       0.97      0.83      0.89       397\n",
            "        INFJ       0.80      0.84      0.82      2993\n",
            "        INFP       0.79      0.81      0.80      2427\n",
            "        INTJ       0.79      0.88      0.83      4486\n",
            "        INTP       0.80      0.89      0.84      4992\n",
            "        ISFJ       0.84      0.35      0.50       130\n",
            "        ISFP       0.70      0.35      0.47       175\n",
            "        ISTJ       0.83      0.37      0.51       249\n",
            "        ISTP       0.87      0.70      0.78       685\n",
            "\n",
            "    accuracy                           0.81     21214\n",
            "   macro avg       0.83      0.60      0.67     21214\n",
            "weighted avg       0.81      0.81      0.81     21214\n",
            "\n"
          ]
        }
      ],
      "source": [
        "print('Train Classification Report \\n ', classification_report(train_target, model_log.predict(train_post), zero_division=0, target_names = target_encoder.inverse_transform([i for i in range(16)])))\n",
        "\n",
        "print('Test Classification Report \\n', classification_report(test_target, model_log.predict(test_post), zero_division=0, target_names = target_encoder.inverse_transform([i for i in range(16)])))"
      ]
    },
    {
      "cell_type": "code",
      "execution_count": 14,
      "metadata": {
        "execution": {
          "iopub.execute_input": "2023-02-07T13:11:34.658237Z",
          "iopub.status.busy": "2023-02-07T13:11:34.657882Z",
          "iopub.status.idle": "2023-02-07T13:11:34.686321Z",
          "shell.execute_reply": "2023-02-07T13:11:34.685068Z",
          "shell.execute_reply.started": "2023-02-07T13:11:34.658205Z"
        },
        "id": "zaLwA7BzCTNj",
        "trusted": true
      },
      "outputs": [],
      "source": [
        "models_accuracy['Logistic Regression'] = accuracy_score(test_target, model_log.predict(test_post))"
      ]
    },
    {
      "cell_type": "markdown",
      "metadata": {
        "id": "htwopJOCCTNj"
      },
      "source": [
        "#### Linear Support Vector Classifier"
      ]
    },
    {
      "cell_type": "code",
      "execution_count": 15,
      "metadata": {
        "colab": {
          "base_uri": "https://localhost:8080/",
          "height": 75
        },
        "execution": {
          "iopub.execute_input": "2023-02-07T13:11:40.209059Z",
          "iopub.status.busy": "2023-02-07T13:11:40.208605Z",
          "iopub.status.idle": "2023-02-07T13:11:41.555852Z",
          "shell.execute_reply": "2023-02-07T13:11:41.554972Z",
          "shell.execute_reply.started": "2023-02-07T13:11:40.209008Z"
        },
        "id": "FqlwnjrYCTNj",
        "outputId": "c99722c3-53be-41a4-fe68-15899cc07943",
        "trusted": true
      },
      "outputs": [
        {
          "data": {
            "text/html": [
              "<style>#sk-container-id-3 {color: black;background-color: white;}#sk-container-id-3 pre{padding: 0;}#sk-container-id-3 div.sk-toggleable {background-color: white;}#sk-container-id-3 label.sk-toggleable__label {cursor: pointer;display: block;width: 100%;margin-bottom: 0;padding: 0.3em;box-sizing: border-box;text-align: center;}#sk-container-id-3 label.sk-toggleable__label-arrow:before {content: \"▸\";float: left;margin-right: 0.25em;color: #696969;}#sk-container-id-3 label.sk-toggleable__label-arrow:hover:before {color: black;}#sk-container-id-3 div.sk-estimator:hover label.sk-toggleable__label-arrow:before {color: black;}#sk-container-id-3 div.sk-toggleable__content {max-height: 0;max-width: 0;overflow: hidden;text-align: left;background-color: #f0f8ff;}#sk-container-id-3 div.sk-toggleable__content pre {margin: 0.2em;color: black;border-radius: 0.25em;background-color: #f0f8ff;}#sk-container-id-3 input.sk-toggleable__control:checked~div.sk-toggleable__content {max-height: 200px;max-width: 100%;overflow: auto;}#sk-container-id-3 input.sk-toggleable__control:checked~label.sk-toggleable__label-arrow:before {content: \"▾\";}#sk-container-id-3 div.sk-estimator input.sk-toggleable__control:checked~label.sk-toggleable__label {background-color: #d4ebff;}#sk-container-id-3 div.sk-label input.sk-toggleable__control:checked~label.sk-toggleable__label {background-color: #d4ebff;}#sk-container-id-3 input.sk-hidden--visually {border: 0;clip: rect(1px 1px 1px 1px);clip: rect(1px, 1px, 1px, 1px);height: 1px;margin: -1px;overflow: hidden;padding: 0;position: absolute;width: 1px;}#sk-container-id-3 div.sk-estimator {font-family: monospace;background-color: #f0f8ff;border: 1px dotted black;border-radius: 0.25em;box-sizing: border-box;margin-bottom: 0.5em;}#sk-container-id-3 div.sk-estimator:hover {background-color: #d4ebff;}#sk-container-id-3 div.sk-parallel-item::after {content: \"\";width: 100%;border-bottom: 1px solid gray;flex-grow: 1;}#sk-container-id-3 div.sk-label:hover label.sk-toggleable__label {background-color: #d4ebff;}#sk-container-id-3 div.sk-serial::before {content: \"\";position: absolute;border-left: 1px solid gray;box-sizing: border-box;top: 0;bottom: 0;left: 50%;z-index: 0;}#sk-container-id-3 div.sk-serial {display: flex;flex-direction: column;align-items: center;background-color: white;padding-right: 0.2em;padding-left: 0.2em;position: relative;}#sk-container-id-3 div.sk-item {position: relative;z-index: 1;}#sk-container-id-3 div.sk-parallel {display: flex;align-items: stretch;justify-content: center;background-color: white;position: relative;}#sk-container-id-3 div.sk-item::before, #sk-container-id-3 div.sk-parallel-item::before {content: \"\";position: absolute;border-left: 1px solid gray;box-sizing: border-box;top: 0;bottom: 0;left: 50%;z-index: -1;}#sk-container-id-3 div.sk-parallel-item {display: flex;flex-direction: column;z-index: 1;position: relative;background-color: white;}#sk-container-id-3 div.sk-parallel-item:first-child::after {align-self: flex-end;width: 50%;}#sk-container-id-3 div.sk-parallel-item:last-child::after {align-self: flex-start;width: 50%;}#sk-container-id-3 div.sk-parallel-item:only-child::after {width: 0;}#sk-container-id-3 div.sk-dashed-wrapped {border: 1px dashed gray;margin: 0 0.4em 0.5em 0.4em;box-sizing: border-box;padding-bottom: 0.4em;background-color: white;}#sk-container-id-3 div.sk-label label {font-family: monospace;font-weight: bold;display: inline-block;line-height: 1.2em;}#sk-container-id-3 div.sk-label-container {text-align: center;}#sk-container-id-3 div.sk-container {/* jupyter's `normalize.less` sets `[hidden] { display: none; }` but bootstrap.min.css set `[hidden] { display: none !important; }` so we also need the `!important` here to be able to override the default hidden behavior on the sphinx rendered scikit-learn.org. See: https://github.com/scikit-learn/scikit-learn/issues/21755 */display: inline-block !important;position: relative;}#sk-container-id-3 div.sk-text-repr-fallback {display: none;}</style><div id=\"sk-container-id-3\" class=\"sk-top-container\"><div class=\"sk-text-repr-fallback\"><pre>LinearSVC(C=0.1)</pre><b>In a Jupyter environment, please rerun this cell to show the HTML representation or trust the notebook. <br />On GitHub, the HTML representation is unable to render, please try loading this page with nbviewer.org.</b></div><div class=\"sk-container\" hidden><div class=\"sk-item\"><div class=\"sk-estimator sk-toggleable\"><input class=\"sk-toggleable__control sk-hidden--visually\" id=\"sk-estimator-id-3\" type=\"checkbox\" checked><label for=\"sk-estimator-id-3\" class=\"sk-toggleable__label sk-toggleable__label-arrow\">LinearSVC</label><div class=\"sk-toggleable__content\"><pre>LinearSVC(C=0.1)</pre></div></div></div></div></div>"
            ],
            "text/plain": [
              "LinearSVC(C=0.1)"
            ]
          },
          "execution_count": 15,
          "metadata": {},
          "output_type": "execute_result"
        }
      ],
      "source": [
        "model_linear_svc=LinearSVC(C = 0.1)\n",
        "\n",
        "model_linear_svc.fit(train_post, train_target)"
      ]
    },
    {
      "cell_type": "code",
      "execution_count": 16,
      "metadata": {
        "colab": {
          "base_uri": "https://localhost:8080/"
        },
        "execution": {
          "iopub.execute_input": "2023-02-07T13:11:41.557823Z",
          "iopub.status.busy": "2023-02-07T13:11:41.557450Z",
          "iopub.status.idle": "2023-02-07T13:11:41.729472Z",
          "shell.execute_reply": "2023-02-07T13:11:41.728266Z",
          "shell.execute_reply.started": "2023-02-07T13:11:41.557785Z"
        },
        "id": "0KFMsAYrCTNj",
        "outputId": "d2c74e2d-6da2-4aac-8b5d-c958fb8b2172",
        "trusted": true
      },
      "outputs": [
        {
          "name": "stdout",
          "output_type": "stream",
          "text": [
            "Train Classification Report \n",
            "                precision    recall  f1-score   support\n",
            "\n",
            "        ENFJ       0.90      0.64      0.75      1227\n",
            "        ENFP       0.88      0.80      0.84      4934\n",
            "        ENTJ       0.92      0.77      0.84      2364\n",
            "        ENTP       0.88      0.84      0.86      9380\n",
            "        ESFJ       0.95      0.37      0.53       145\n",
            "        ESFP       0.93      0.50      0.65       288\n",
            "        ESTJ       0.95      0.80      0.87       386\n",
            "        ESTP       0.95      0.92      0.93      1589\n",
            "        INFJ       0.86      0.87      0.87     11970\n",
            "        INFP       0.85      0.86      0.85      9707\n",
            "        INTJ       0.85      0.90      0.88     17941\n",
            "        INTP       0.85      0.92      0.88     19969\n",
            "        ISFJ       0.91      0.56      0.69       520\n",
            "        ISFP       0.88      0.62      0.73       700\n",
            "        ISTJ       0.91      0.66      0.77       994\n",
            "        ISTP       0.91      0.81      0.86      2739\n",
            "\n",
            "    accuracy                           0.86     84853\n",
            "   macro avg       0.90      0.74      0.80     84853\n",
            "weighted avg       0.87      0.86      0.86     84853\n",
            "\n",
            "Test Classification Report \n",
            "               precision    recall  f1-score   support\n",
            "\n",
            "        ENFJ       0.81      0.50      0.62       307\n",
            "        ENFP       0.84      0.77      0.80      1233\n",
            "        ENTJ       0.89      0.69      0.78       591\n",
            "        ENTP       0.84      0.80      0.82      2345\n",
            "        ESFJ       0.92      0.31      0.46        36\n",
            "        ESFP       0.76      0.39      0.51        72\n",
            "        ESTJ       0.90      0.73      0.80        96\n",
            "        ESTP       0.94      0.89      0.91       397\n",
            "        INFJ       0.81      0.84      0.82      2993\n",
            "        INFP       0.80      0.82      0.81      2427\n",
            "        INTJ       0.81      0.87      0.84      4486\n",
            "        INTP       0.81      0.88      0.85      4992\n",
            "        ISFJ       0.80      0.43      0.56       130\n",
            "        ISFP       0.73      0.38      0.50       175\n",
            "        ISTJ       0.83      0.50      0.62       249\n",
            "        ISTP       0.87      0.77      0.82       685\n",
            "\n",
            "    accuracy                           0.82     21214\n",
            "   macro avg       0.83      0.66      0.72     21214\n",
            "weighted avg       0.82      0.82      0.82     21214\n",
            "\n"
          ]
        }
      ],
      "source": [
        "print('Train Classification Report \\n ', classification_report(train_target, model_linear_svc.predict(train_post), zero_division=0, target_names = target_encoder.inverse_transform([i for i in range(16)])))\n",
        "\n",
        "print('Test Classification Report \\n', classification_report(test_target, model_linear_svc.predict(test_post), zero_division=0, target_names = target_encoder.inverse_transform([i for i in range(16)])))"
      ]
    },
    {
      "cell_type": "code",
      "execution_count": 17,
      "metadata": {
        "execution": {
          "iopub.execute_input": "2023-02-07T13:11:48.058538Z",
          "iopub.status.busy": "2023-02-07T13:11:48.058212Z",
          "iopub.status.idle": "2023-02-07T13:11:48.087519Z",
          "shell.execute_reply": "2023-02-07T13:11:48.086321Z",
          "shell.execute_reply.started": "2023-02-07T13:11:48.058507Z"
        },
        "id": "aoHeu98xCTNj",
        "trusted": true
      },
      "outputs": [],
      "source": [
        "models_accuracy['Linear Support Vector Classifier'] = accuracy_score(test_target, model_linear_svc.predict(test_post))"
      ]
    },
    {
      "cell_type": "markdown",
      "metadata": {
        "id": "SuZTp-D0wnyT"
      },
      "source": [
        "## Models accuracy summary"
      ]
    },
    {
      "cell_type": "code",
      "execution_count": 18,
      "metadata": {
        "colab": {
          "base_uri": "https://localhost:8080/",
          "height": 112
        },
        "execution": {
          "iopub.execute_input": "2023-02-07T13:29:43.728051Z",
          "iopub.status.busy": "2023-02-07T13:29:43.727710Z",
          "iopub.status.idle": "2023-02-07T13:29:43.733783Z",
          "shell.execute_reply": "2023-02-07T13:29:43.733017Z",
          "shell.execute_reply.started": "2023-02-07T13:29:43.728020Z"
        },
        "id": "nhB5Rq0FCTNr",
        "outputId": "403ae9ee-eb07-4de8-8dcb-28b10361bc64",
        "trusted": true
      },
      "outputs": [
        {
          "data": {
            "text/html": [
              "<style type=\"text/css\">\n",
              "#T_18a01_row0_col1 {\n",
              "  background-color: #08306b;\n",
              "  color: #f1f1f1;\n",
              "}\n",
              "#T_18a01_row1_col1 {\n",
              "  background-color: #f7fbff;\n",
              "  color: #000000;\n",
              "}\n",
              "</style>\n",
              "<table id=\"T_18a01\" class=\"dataframe\">\n",
              "  <thead>\n",
              "    <tr>\n",
              "      <th class=\"blank level0\" >&nbsp;</th>\n",
              "      <th id=\"T_18a01_level0_col0\" class=\"col_heading level0 col0\" >Models</th>\n",
              "      <th id=\"T_18a01_level0_col1\" class=\"col_heading level0 col1\" >Test accuracy</th>\n",
              "    </tr>\n",
              "  </thead>\n",
              "  <tbody>\n",
              "    <tr>\n",
              "      <th id=\"T_18a01_level0_row0\" class=\"row_heading level0 row0\" >0</th>\n",
              "      <td id=\"T_18a01_row0_col0\" class=\"data row0 col0\" >Linear Support Vector Classifier</td>\n",
              "      <td id=\"T_18a01_row0_col1\" class=\"data row0 col1\" >0.820354</td>\n",
              "    </tr>\n",
              "    <tr>\n",
              "      <th id=\"T_18a01_level0_row1\" class=\"row_heading level0 row1\" >1</th>\n",
              "      <td id=\"T_18a01_row1_col0\" class=\"data row1 col0\" >Logistic Regression</td>\n",
              "      <td id=\"T_18a01_row1_col1\" class=\"data row1 col1\" >0.811775</td>\n",
              "    </tr>\n",
              "  </tbody>\n",
              "</table>\n"
            ],
            "text/plain": [
              "<pandas.io.formats.style.Styler at 0x7c65e5a8d1b0>"
            ]
          },
          "execution_count": 18,
          "metadata": {},
          "output_type": "execute_result"
        }
      ],
      "source": [
        "models_accuracy\n",
        "\n",
        "accuarcy = pd.DataFrame(models_accuracy.items(), columns = ['Models', 'Test accuracy'])\n",
        "\n",
        "accuarcy.sort_values(by = 'Test accuracy', ascending = False, ignore_index = True).style.background_gradient(cmap = 'Blues')"
      ]
    },
    {
      "cell_type": "markdown",
      "metadata": {
        "id": "B-vjbg_dRinH"
      },
      "source": [
        "## Save (pickle) the final model"
      ]
    },
    {
      "cell_type": "code",
      "execution_count": 19,
      "metadata": {
        "execution": {
          "iopub.execute_input": "2023-02-07T13:32:06.937694Z",
          "iopub.status.busy": "2023-02-07T13:32:06.937335Z",
          "iopub.status.idle": "2023-02-07T13:32:06.986496Z",
          "shell.execute_reply": "2023-02-07T13:32:06.985644Z",
          "shell.execute_reply.started": "2023-02-07T13:32:06.937659Z"
        },
        "id": "koqUsTXnCTNs",
        "trusted": true
      },
      "outputs": [],
      "source": [
        "# Vectorizer\n",
        "pickle.dump(vectorizer, open('vectorizer.pkl', 'wb'))\n",
        "\n",
        "# Model\n",
        "pickle.dump(model_linear_svc, open('model.pkl', 'wb'))"
      ]
    },
    {
      "cell_type": "markdown",
      "metadata": {
        "id": "_gym52PUTGZ7"
      },
      "source": [
        "### Load and test the saved model"
      ]
    },
    {
      "cell_type": "code",
      "execution_count": 20,
      "metadata": {
        "colab": {
          "base_uri": "https://localhost:8080/"
        },
        "id": "lakYs5bb9fQ3",
        "outputId": "7f120047-3c57-413b-ca37-209f40861c8c"
      },
      "outputs": [
        {
          "name": "stdout",
          "output_type": "stream",
          "text": [
            "[11] ['INTP']\n"
          ]
        }
      ],
      "source": [
        "loaded_vectorizer = pickle.load(open('vectorizer.pkl', 'rb'))\n",
        "loaded_model = pickle.load(open('model.pkl', 'rb'))\n",
        "\n",
        "message = [\"This is pretty much the worse movie I have ever watched. It's completely thrash!\"]\n",
        "message = loaded_vectorizer.transform(message)\n",
        "\n",
        "result = loaded_model.predict(message)\n",
        "\n",
        "print(result, target_encoder.inverse_transform(result))"
      ]
    }
  ],
  "metadata": {
    "colab": {
      "provenance": []
    },
    "kernelspec": {
      "display_name": "Python 3",
      "name": "python3"
    },
    "language_info": {
      "codemirror_mode": {
        "name": "ipython",
        "version": 3
      },
      "file_extension": ".py",
      "mimetype": "text/x-python",
      "name": "python",
      "nbconvert_exporter": "python",
      "pygments_lexer": "ipython3",
      "version": "3.7.10"
    }
  },
  "nbformat": 4,
  "nbformat_minor": 0
}
